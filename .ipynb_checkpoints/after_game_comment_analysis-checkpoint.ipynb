{
 "cells": [
  {
   "cell_type": "markdown",
   "metadata": {
    "deletable": true,
    "editable": true
   },
   "source": [
    "# 爬取虎扑的赛后评论，并分析"
   ]
  },
  {
   "cell_type": "code",
   "execution_count": 1,
   "metadata": {
    "collapsed": true,
    "deletable": true,
    "editable": true
   },
   "outputs": [],
   "source": [
    "import requests\n",
    "import re\n",
    "from collections import Counter\n",
    "from bs4 import BeautifulSoup"
   ]
  },
  {
   "cell_type": "code",
   "execution_count": null,
   "metadata": {
    "collapsed": false,
    "deletable": true,
    "editable": true
   },
   "outputs": [],
   "source": [
    "def counter_fans(post_url):\n",
    "    counter = Counter()\n",
    "    i=1\n",
    "    while i<50:\n",
    "        try:\n",
    "            after_game_url ='https://bbs.hupu.com/21779972-{}.html'.format(i)\n",
    "            response = requests.get(after_game_url)\n",
    "            # <div uname=\"疯狂的麦克斯4\" uid=\"278913245705307\" class=\"j_u\">\n",
    "            #<a href=\"https://my.hupu.com/278913245705307\" target=\"_blank\" class=\"headpic\"><img src=\"https://i3.hoopchina.com.cn/user/header/20170415/149222410134740_small_1.jpg\" width=\"45\" height=\"45\" alt=\"疯狂的麦克斯4\"></a>\n",
    "            #</div>\n",
    "            results = re.findall('<a\\sclass=\"u\"\\starget=\"_blank\"\\shref=\"https://my.hupu.com/(.*?)\".*?>',response.text,re.S)\n",
    "            fans = []\n",
    "            for result in results:\n",
    "                usernum = result\n",
    "                url = 'https://my.hupu.com/{}'.format(usernum)\n",
    "                resp = requests.get(url)\n",
    "                pat = re.compile('<span.*?>NBA主队.*?<a.*?>(.*?)</a>.*?',re.S)\n",
    "                team = re.findall(pat,resp.text)\n",
    "                if len(team)>0:\n",
    "                    fans.append(team[0])\n",
    "                else:\n",
    "                    fans.append('无主队')\n",
    "            counter.update(fans)\n",
    "            i+=1\n",
    "            return counter\n",
    "        except Exception:\n",
    "            print('end')"
   ]
  },
  {
   "cell_type": "code",
   "execution_count": 28,
   "metadata": {
    "collapsed": false,
    "deletable": true,
    "editable": true
   },
   "outputs": [
    {
     "data": {
      "text/plain": [
       "[]"
      ]
     },
     "execution_count": 28,
     "metadata": {},
     "output_type": "execute_result"
    }
   ],
   "source": [
    "after_game_url ='https://bbs.hupu.com/21779972.html'\n",
    "response = requests.get(after_game_url)\n",
    "post = BeautifulSoup(response.text,'lxml')\n",
    "post.find_previous_siblings('a',class_='nextPage')"
   ]
  },
  {
   "cell_type": "code",
   "execution_count": 24,
   "metadata": {
    "collapsed": false,
    "deletable": true,
    "editable": true,
    "scrolled": false
   },
   "outputs": [],
   "source": [
    "f_page"
   ]
  },
  {
   "cell_type": "code",
   "execution_count": null,
   "metadata": {
    "collapsed": false,
    "deletable": true,
    "editable": true
   },
   "outputs": [],
   "source": [
    "fans = []\n",
    "for result in results:\n",
    "    usernum = result[1]\n",
    "    url = 'https://my.hupu.com/{}'.format(usernum)\n",
    "    resp = requests.get(url)\n",
    "    pat = re.compile('<span.*?>NBA主队.*?<a.*?>(.*?)</a>.*?',re.S)\n",
    "    team = re.findall(pat,resp.text)\n",
    "    if len(team)>0:\n",
    "        fans.append(team[0])\n",
    "    else:\n",
    "        fans.append('无主队')\n",
    "counter.update(fans)"
   ]
  },
  {
   "cell_type": "code",
   "execution_count": null,
   "metadata": {
    "collapsed": false,
    "deletable": true,
    "editable": true
   },
   "outputs": [],
   "source": [
    "counter.most_common()"
   ]
  },
  {
   "cell_type": "markdown",
   "metadata": {
    "collapsed": true,
    "deletable": true,
    "editable": true
   },
   "source": [
    "## 找到赛后链接"
   ]
  },
  {
   "cell_type": "raw",
   "metadata": {
    "deletable": true,
    "editable": true
   },
   "source": [
    "<ul class=\"for-list\">.*?<li>\\n<div class=\"titlelink box\" style=\"width:645px;\">\\n[<a href=\"/vote-type2\">话题</a>]<a   href=\"/21797416.html\" class=\"truetit\" ><b>[赛后]公牛86-118火箭，马尔卡宁22+4，戈登31分，保罗13+10，火箭十连胜</b></a>"
   ]
  },
  {
   "cell_type": "code",
   "execution_count": 2,
   "metadata": {
    "collapsed": false,
    "deletable": true,
    "editable": true
   },
   "outputs": [],
   "source": [
    "response = requests.get('https://bbs.hupu.com/vote')\n",
    "soup = BeautifulSoup(response.text,'lxml')\n",
    "lis = soup.find_all('li')"
   ]
  },
  {
   "cell_type": "code",
   "execution_count": 38,
   "metadata": {
    "collapsed": false,
    "deletable": true,
    "editable": true
   },
   "outputs": [],
   "source": [
    "targets = []\n",
    "for li in lis:\n",
    "    target = li.find('a',class_='truetit')\n",
    "    if target!=None and target.text.find('[赛后]')!=-1:\n",
    "        page_n = li.find('span',class_='multipage').find_all('a')[-1].text\n",
    "        targets.append((target,page_n))"
   ]
  },
  {
   "cell_type": "code",
   "execution_count": 40,
   "metadata": {
    "collapsed": false
   },
   "outputs": [
    {
     "data": {
      "text/plain": [
       "(<a class=\"truetit\" href=\"/21797416.html\"><b>[赛后]公牛86-118火箭，马尔卡宁22+4，戈登31分，保罗13+10，火箭十连胜</b></a>,\n",
       " '20')"
      ]
     },
     "execution_count": 40,
     "metadata": {},
     "output_type": "execute_result"
    }
   ],
   "source": [
    "targets[1]"
   ]
  },
  {
   "cell_type": "code",
   "execution_count": null,
   "metadata": {
    "collapsed": true
   },
   "outputs": [],
   "source": []
  }
 ],
 "metadata": {
  "kernelspec": {
   "display_name": "Python [conda env:aind]",
   "language": "python",
   "name": "conda-env-aind-py"
  },
  "language_info": {
   "codemirror_mode": {
    "name": "ipython",
    "version": 3
   },
   "file_extension": ".py",
   "mimetype": "text/x-python",
   "name": "python",
   "nbconvert_exporter": "python",
   "pygments_lexer": "ipython3",
   "version": "3.6.0"
  }
 },
 "nbformat": 4,
 "nbformat_minor": 2
}
