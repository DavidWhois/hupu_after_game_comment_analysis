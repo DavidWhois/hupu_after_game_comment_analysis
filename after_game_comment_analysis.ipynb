{
 "cells": [
  {
   "cell_type": "markdown",
   "metadata": {
    "deletable": true,
    "editable": true
   },
   "source": [
    "# 爬取虎扑的赛后评论，并分析"
   ]
  },
  {
   "cell_type": "code",
   "execution_count": 4,
   "metadata": {
    "collapsed": true,
    "deletable": true,
    "editable": true
   },
   "outputs": [],
   "source": [
    "import requests\n",
    "import re\n",
    "from collections import Counter"
   ]
  },
  {
   "cell_type": "code",
   "execution_count": 25,
   "metadata": {
    "collapsed": false,
    "deletable": true,
    "editable": true
   },
   "outputs": [],
   "source": [
    "counter = Counter()\n",
    "i=1\n",
    "while i<50:\n",
    "    try:\n",
    "        after_game_url ='https://bbs.hupu.com/21779972-{}.html'.format(i)\n",
    "        response = requests.get(after_game_url)\n",
    "        # <div uname=\"疯狂的麦克斯4\" uid=\"278913245705307\" class=\"j_u\">\n",
    "        #<a href=\"https://my.hupu.com/278913245705307\" target=\"_blank\" class=\"headpic\"><img src=\"https://i3.hoopchina.com.cn/user/header/20170415/149222410134740_small_1.jpg\" width=\"45\" height=\"45\" alt=\"疯狂的麦克斯4\"></a>\n",
    "        #</div>\n",
    "        results = re.findall('<a\\sclass=\"u\"\\starget=\"_blank\"\\shref=\"https://my.hupu.com/(.*?)\".*?>',response.text,re.S)\n",
    "        fans = []\n",
    "        for result in results:\n",
    "            usernum = result\n",
    "            url = 'https://my.hupu.com/{}'.format(usernum)\n",
    "            resp = requests.get(url)\n",
    "            pat = re.compile('<span.*?>NBA主队.*?<a.*?>(.*?)</a>.*?',re.S)\n",
    "            team = re.findall(pat,resp.text)\n",
    "            if len(team)>0:\n",
    "                fans.append(team[0])\n",
    "            else:\n",
    "                fans.append('无主队')\n",
    "        counter.update(fans)\n",
    "        i+=1\n",
    "    except Exception:\n",
    "        print('end')"
   ]
  },
  {
   "cell_type": "code",
   "execution_count": 19,
   "metadata": {
    "collapsed": false,
    "deletable": true,
    "editable": true
   },
   "outputs": [],
   "source": [
    "after_game_url ='https://bbs.hupu.com/21779972-2.html'\n",
    "response = requests.get(after_game_url)\n",
    "# <div uname=\"疯狂的麦克斯4\" uid=\"278913245705307\" class=\"j_u\">\n",
    "#<a href=\"https://my.hupu.com/278913245705307\" target=\"_blank\" class=\"headpic\"><img src=\"https://i3.hoopchina.com.cn/user/header/20170415/149222410134740_small_1.jpg\" width=\"45\" height=\"45\" alt=\"疯狂的麦克斯4\"></a>\n",
    "#</div>\n",
    "#<a class=\"u\" target=\"_blank\" href=\"https://my.hupu.com/152240660818192\">0maYo</a>\n",
    "results = re.findall('<a\\sclass=\"u\"\\starget=\"_blank\"\\shref=\"https://my.hupu.com/(.*?)\".*?>',response.text,re.S)"
   ]
  },
  {
   "cell_type": "code",
   "execution_count": 20,
   "metadata": {
    "collapsed": false,
    "scrolled": false
   },
   "outputs": [
    {
     "data": {
      "text/plain": [
       "['158741711764741',\n",
       " '75394220320034',\n",
       " '63683389875498',\n",
       " '73750920512100',\n",
       " '212403025128858',\n",
       " '174415793194052',\n",
       " '58392210661400',\n",
       " '198108496754005',\n",
       " '148382191024442',\n",
       " 'Soy-mac',\n",
       " '200292530119953',\n",
       " '145625793681058',\n",
       " '149276679295218',\n",
       " '4447824745216',\n",
       " 'Soy-mac',\n",
       " '263362683539147',\n",
       " '148755637266803',\n",
       " '77737487560013',\n",
       " '204297900298994',\n",
       " '231050028876608',\n",
       " '249017793663924']"
      ]
     },
     "execution_count": 20,
     "metadata": {},
     "output_type": "execute_result"
    }
   ],
   "source": [
    "results"
   ]
  },
  {
   "cell_type": "code",
   "execution_count": 21,
   "metadata": {
    "collapsed": false
   },
   "outputs": [],
   "source": [
    "fans = []\n",
    "for result in results:\n",
    "    usernum = result[1]\n",
    "    url = 'https://my.hupu.com/{}'.format(usernum)\n",
    "    resp = requests.get(url)\n",
    "    pat = re.compile('<span.*?>NBA主队.*?<a.*?>(.*?)</a>.*?',re.S)\n",
    "    team = re.findall(pat,resp.text)\n",
    "    if len(team)>0:\n",
    "        fans.append(team[0])\n",
    "    else:\n",
    "        fans.append('无主队')\n",
    "counter.update(fans)"
   ]
  },
  {
   "cell_type": "code",
   "execution_count": 27,
   "metadata": {
    "collapsed": false
   },
   "outputs": [
    {
     "data": {
      "text/plain": [
       "[('无主队', 986),\n",
       " ('火箭', 70),\n",
       " ('雷霆', 52),\n",
       " ('马刺', 51),\n",
       " ('开拓者', 40),\n",
       " ('骑士', 36),\n",
       " ('湖人', 33),\n",
       " ('独行侠', 14),\n",
       " ('凯尔特人', 13),\n",
       " ('勇士', 7),\n",
       " ('掘金', 7),\n",
       " ('76人', 4),\n",
       " ('尼克斯', 4),\n",
       " ('热火', 3),\n",
       " ('森林狼', 2),\n",
       " ('篮网', 2),\n",
       " ('雄鹿', 2),\n",
       " ('黄蜂', 1),\n",
       " ('鹈鹕', 1),\n",
       " ('国王', 1)]"
      ]
     },
     "execution_count": 27,
     "metadata": {},
     "output_type": "execute_result"
    }
   ],
   "source": [
    "counter.most_common()"
   ]
  },
  {
   "cell_type": "code",
   "execution_count": null,
   "metadata": {
    "collapsed": true
   },
   "outputs": [],
   "source": []
  }
 ],
 "metadata": {
  "kernelspec": {
   "display_name": "Python [conda env:aind]",
   "language": "python",
   "name": "conda-env-aind-py"
  },
  "language_info": {
   "codemirror_mode": {
    "name": "ipython",
    "version": 3
   },
   "file_extension": ".py",
   "mimetype": "text/x-python",
   "name": "python",
   "nbconvert_exporter": "python",
   "pygments_lexer": "ipython3",
   "version": "3.6.0"
  }
 },
 "nbformat": 4,
 "nbformat_minor": 2
}
