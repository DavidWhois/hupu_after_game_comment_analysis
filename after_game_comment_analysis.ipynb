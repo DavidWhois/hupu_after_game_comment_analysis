{
 "cells": [
  {
   "cell_type": "markdown",
   "metadata": {
    "deletable": true,
    "editable": true
   },
   "source": [
    "# 爬取虎扑的赛后评论，并分析"
   ]
  },
  {
   "cell_type": "code",
   "execution_count": 1,
   "metadata": {
    "collapsed": true,
    "deletable": true,
    "editable": true
   },
   "outputs": [],
   "source": [
    "import requests\n",
    "import re\n",
    "from collections import Counter\n",
    "from bs4 import BeautifulSoup\n",
    "import pandas as pd\n",
    "import numpy as np\n",
    "\n",
    "%matplotlib inline\n",
    "%config InlineBackend.figure_format = 'retina'\n",
    "from matplotlib.font_manager import _rebuild\n",
    "_rebuild()"
   ]
  },
  {
   "cell_type": "markdown",
   "metadata": {
    "collapsed": true,
    "deletable": true,
    "editable": true
   },
   "source": [
    "## 找到赛后链接"
   ]
  },
  {
   "cell_type": "code",
   "execution_count": 2,
   "metadata": {
    "collapsed": false
   },
   "outputs": [],
   "source": [
    "def order_win_lose(title):\n",
    "    pattern = '\\[赛后\\](.*?)(\\d+)-(\\d+)(.*?)，'\n",
    "    game_result = re.findall(pattern,title,re.S)[0]\n",
    "    team_1 = game_result[0]\n",
    "    team_2 = game_result[3].replace('不敌','')\n",
    "    if float(game_result[1])>float(game_result[2]):\n",
    "        return (team_1,team_2)\n",
    "    else:\n",
    "        return (team_2,team_1)"
   ]
  },
  {
   "cell_type": "code",
   "execution_count": 3,
   "metadata": {
    "collapsed": false
   },
   "outputs": [
    {
     "data": {
      "text/plain": [
       "('火箭', '公牛')"
      ]
     },
     "execution_count": 3,
     "metadata": {},
     "output_type": "execute_result"
    }
   ],
   "source": [
    "order_win_lose('[赛后]公牛86-118不敌火箭，马尔卡宁22+4，戈登31分，保罗13+10，火箭十连胜')"
   ]
  },
  {
   "cell_type": "code",
   "execution_count": 4,
   "metadata": {
    "collapsed": false,
    "deletable": true,
    "editable": true
   },
   "outputs": [],
   "source": [
    "# url:'https://bbs.hupu.com/vote'\n",
    "# sample target: ('https://bbs.hupu.com/21797416.html',\n",
    "# '[赛后]公牛86-118火箭，马尔卡宁22+4，戈登31分，保罗13+10，火箭十连胜',\n",
    "# '20')\n",
    "def get_after_game_post(url):\n",
    "    response = requests.get(url)\n",
    "    soup = BeautifulSoup(response.text,'lxml')\n",
    "    lis = soup.find_all('li')\n",
    "    targets = []\n",
    "    for li in lis:\n",
    "        target = li.find('a',class_='truetit')\n",
    "        if target!=None and target.text.find('[赛后]')!=-1:\n",
    "            page_n = li.find('span',class_='multipage').find_all('a')[-1].text \n",
    "            targets.append(('https://bbs.hupu.com'+target['href'],order_win_lose(target.text),page_n))\n",
    "    return targets"
   ]
  },
  {
   "cell_type": "markdown",
   "metadata": {},
   "source": [
    "## 统计评论人主队"
   ]
  },
  {
   "cell_type": "code",
   "execution_count": 5,
   "metadata": {
    "collapsed": false,
    "deletable": true,
    "editable": true
   },
   "outputs": [],
   "source": [
    "def counter_fans(post_url,page_n):\n",
    "    counter = Counter()\n",
    "    i=1\n",
    "    while i<=page_n:\n",
    "        try:\n",
    "            after_game_url =post_url.format(i)\n",
    "            response = requests.get(after_game_url)\n",
    "            # <div uname=\"疯狂的麦克斯4\" uid=\"278913245705307\" class=\"j_u\">\n",
    "            #<a href=\"https://my.hupu.com/278913245705307\" target=\"_blank\" class=\"headpic\"><img src=\"https://i3.hoopchina.com.cn/user/header/20170415/149222410134740_small_1.jpg\" width=\"45\" height=\"45\" alt=\"疯狂的麦克斯4\"></a>\n",
    "            #</div>\n",
    "            results = re.findall('<a\\sclass=\"u\"\\starget=\"_blank\"\\shref=\"https://my.hupu.com/(.*?)\".*?>',response.text,re.S)\n",
    "            fans = []\n",
    "            for result in results:\n",
    "                usernum = result\n",
    "                url = 'https://my.hupu.com/{}'.format(usernum)\n",
    "                resp = requests.get(url)\n",
    "                pat = re.compile('<span.*?>NBA主队.*?<a.*?>(.*?)</a>.*?',re.S)\n",
    "                team = re.findall(pat,resp.text)\n",
    "                if len(team)>0:\n",
    "                    fans.append(team[0])\n",
    "                else:\n",
    "                    fans.append('无主队')\n",
    "            counter.update(fans)\n",
    "            print('in {} page {}'.format(post_url,i))\n",
    "            i+=1\n",
    "        except Exception:\n",
    "            print('end')\n",
    "    return counter"
   ]
  },
  {
   "cell_type": "markdown",
   "metadata": {},
   "source": [
    "## 把帖子信息更新到文件中"
   ]
  },
  {
   "cell_type": "code",
   "execution_count": 6,
   "metadata": {
    "collapsed": true
   },
   "outputs": [],
   "source": [
    "url = 'https://bbs.hupu.com/vote'\n",
    "post_infos = get_after_game_post(url)"
   ]
  },
  {
   "cell_type": "code",
   "execution_count": 7,
   "metadata": {
    "collapsed": false
   },
   "outputs": [],
   "source": [
    "post_infos_df = pd.DataFrame(post_infos)\n",
    "post_infos_df.columns=['address','teams','page']\n",
    "with open('post_infos.csv','w') as f:\n",
    "    post_infos_df.to_csv(f)"
   ]
  },
  {
   "cell_type": "code",
   "execution_count": 8,
   "metadata": {
    "collapsed": false
   },
   "outputs": [
    {
     "data": {
      "text/html": [
       "<div>\n",
       "<table border=\"1\" class=\"dataframe\">\n",
       "  <thead>\n",
       "    <tr style=\"text-align: right;\">\n",
       "      <th></th>\n",
       "      <th>address</th>\n",
       "      <th>teams</th>\n",
       "      <th>page</th>\n",
       "    </tr>\n",
       "  </thead>\n",
       "  <tbody>\n",
       "    <tr>\n",
       "      <th>0</th>\n",
       "      <td>https://bbs.hupu.com/21816857.html</td>\n",
       "      <td>('雄鹿', '勇士')</td>\n",
       "      <td>18</td>\n",
       "    </tr>\n",
       "  </tbody>\n",
       "</table>\n",
       "</div>"
      ],
      "text/plain": [
       "                              address         teams  page\n",
       "0  https://bbs.hupu.com/21816857.html  ('雄鹿', '勇士')    18"
      ]
     },
     "execution_count": 8,
     "metadata": {},
     "output_type": "execute_result"
    }
   ],
   "source": [
    "old_post_infos = pd.read_csv('post_infos.csv',usecols=['address','teams','page'])\n",
    "old_post_infos.head(1)"
   ]
  },
  {
   "cell_type": "code",
   "execution_count": 9,
   "metadata": {
    "collapsed": false
   },
   "outputs": [
    {
     "name": "stdout",
     "output_type": "stream",
     "text": [
      "for loop:1\n",
      "for loop:2\n",
      "for loop:3\n",
      "for loop:4\n",
      "for loop:5\n",
      "for loop:6\n",
      "for loop:7\n",
      "for loop:8\n",
      "for loop:9\n",
      "for loop:10\n"
     ]
    },
    {
     "data": {
      "text/plain": [
       "[('https://bbs.hupu.com/21816857.html', ('雄鹿', '勇士'), '18'),\n",
       " ('https://bbs.hupu.com/21815678.html', ('马刺', '雷霆'), '55'),\n",
       " ('https://bbs.hupu.com/21816663.html', ('步行者', '国王'), '5'),\n",
       " ('https://bbs.hupu.com/21815273.html', ('热火', '公牛'), '2'),\n",
       " ('https://bbs.hupu.com/21815004.html', ('活塞', '奇才'), '6'),\n",
       " ('https://bbs.hupu.com/21807714.html', ('凯尔特人', '爵士'), '20'),\n",
       " ('https://bbs.hupu.com/21730022.html', ('马刺', '勇士'), '32'),\n",
       " ('https://bbs.hupu.com/21789432.html', ('灰熊', '森林狼'), '28'),\n",
       " ('https://bbs.hupu.com/21745462.html', ('黄蜂', '篮网'), '25'),\n",
       " ('https://bbs.hupu.com/21805997.html', ('骑士', '黄蜂'), '24'),\n",
       " ('https://bbs.hupu.com/21806091.html', ('76人', '尼克斯'), '9'),\n",
       " ('https://bbs.hupu.com/21808310.html', ('湖人', '独行侠'), '15'),\n",
       " ('https://bbs.hupu.com/21806758.html', ('灰熊', '开拓者'), '16'),\n",
       " ('https://bbs.hupu.com/21799137.html', ('步行者', '勇士'), '10'),\n",
       " ('https://bbs.hupu.com/21805964.html', ('篮网', '魔术'), '5'),\n",
       " ('https://bbs.hupu.com/21806695.html', ('森林狼', '老鹰'), '12'),\n",
       " ('https://bbs.hupu.com/21797663.html', ('热火', '骑士'), '22'),\n",
       " ('https://bbs.hupu.com/21790405.html', ('凯尔特人', '太阳'), '12'),\n",
       " ('https://bbs.hupu.com/21807886.html', ('快船', '太阳'), '3'),\n",
       " ('https://bbs.hupu.com/21764801.html', ('勇士', '老鹰'), '13'),\n",
       " ('https://bbs.hupu.com/21797268.html', ('猛龙', '掘金'), '8'),\n",
       " ('https://bbs.hupu.com/21797416.html', ('火箭', '公牛'), '20'),\n",
       " ('https://bbs.hupu.com/21799242.html', ('快船', '雄鹿'), '6')]"
      ]
     },
     "execution_count": 9,
     "metadata": {},
     "output_type": "execute_result"
    }
   ],
   "source": [
    "old_post_url = set(old_post_infos['address'])\n",
    "results = []\n",
    "new_post_infos = []\n",
    "for i in range(1,11):\n",
    "    url = 'https://bbs.hupu.com/vote-{}'.format(i)\n",
    "    new_post_infos.extend(get_after_game_post(url))\n",
    "    print('for loop:{}'.format(i))\n",
    "new_post_infos"
   ]
  },
  {
   "cell_type": "code",
   "execution_count": 10,
   "metadata": {
    "collapsed": false
   },
   "outputs": [],
   "source": [
    "new_post_infos = pd.DataFrame(new_post_infos)\n",
    "new_post_infos.columns=['address','teams','page']\n",
    "new_post_url = set(new_post_infos['address'])\n",
    "update_post_url = new_post_url-old_post_url\n",
    "post_infos = old_post_infos.append(new_post_infos).drop_duplicates()"
   ]
  },
  {
   "cell_type": "code",
   "execution_count": 11,
   "metadata": {
    "collapsed": false
   },
   "outputs": [
    {
     "data": {
      "text/html": [
       "<div>\n",
       "<table border=\"1\" class=\"dataframe\">\n",
       "  <thead>\n",
       "    <tr style=\"text-align: right;\">\n",
       "      <th></th>\n",
       "      <th>address</th>\n",
       "      <th>teams</th>\n",
       "      <th>page</th>\n",
       "    </tr>\n",
       "  </thead>\n",
       "  <tbody>\n",
       "    <tr>\n",
       "      <th>0</th>\n",
       "      <td>https://bbs.hupu.com/21816857.html</td>\n",
       "      <td>(雄鹿, 勇士)</td>\n",
       "      <td>18</td>\n",
       "    </tr>\n",
       "    <tr>\n",
       "      <th>1</th>\n",
       "      <td>https://bbs.hupu.com/21815678.html</td>\n",
       "      <td>(马刺, 雷霆)</td>\n",
       "      <td>55</td>\n",
       "    </tr>\n",
       "    <tr>\n",
       "      <th>2</th>\n",
       "      <td>https://bbs.hupu.com/21816663.html</td>\n",
       "      <td>(步行者, 国王)</td>\n",
       "      <td>5</td>\n",
       "    </tr>\n",
       "    <tr>\n",
       "      <th>3</th>\n",
       "      <td>https://bbs.hupu.com/21815273.html</td>\n",
       "      <td>(热火, 公牛)</td>\n",
       "      <td>2</td>\n",
       "    </tr>\n",
       "    <tr>\n",
       "      <th>4</th>\n",
       "      <td>https://bbs.hupu.com/21815004.html</td>\n",
       "      <td>(活塞, 奇才)</td>\n",
       "      <td>6</td>\n",
       "    </tr>\n",
       "    <tr>\n",
       "      <th>5</th>\n",
       "      <td>https://bbs.hupu.com/21807714.html</td>\n",
       "      <td>(凯尔特人, 爵士)</td>\n",
       "      <td>20</td>\n",
       "    </tr>\n",
       "    <tr>\n",
       "      <th>6</th>\n",
       "      <td>https://bbs.hupu.com/21730022.html</td>\n",
       "      <td>(马刺, 勇士)</td>\n",
       "      <td>32</td>\n",
       "    </tr>\n",
       "    <tr>\n",
       "      <th>7</th>\n",
       "      <td>https://bbs.hupu.com/21789432.html</td>\n",
       "      <td>(灰熊, 森林狼)</td>\n",
       "      <td>28</td>\n",
       "    </tr>\n",
       "    <tr>\n",
       "      <th>8</th>\n",
       "      <td>https://bbs.hupu.com/21745462.html</td>\n",
       "      <td>(黄蜂, 篮网)</td>\n",
       "      <td>25</td>\n",
       "    </tr>\n",
       "    <tr>\n",
       "      <th>9</th>\n",
       "      <td>https://bbs.hupu.com/21805997.html</td>\n",
       "      <td>(骑士, 黄蜂)</td>\n",
       "      <td>24</td>\n",
       "    </tr>\n",
       "    <tr>\n",
       "      <th>10</th>\n",
       "      <td>https://bbs.hupu.com/21806091.html</td>\n",
       "      <td>(76人, 尼克斯)</td>\n",
       "      <td>9</td>\n",
       "    </tr>\n",
       "    <tr>\n",
       "      <th>11</th>\n",
       "      <td>https://bbs.hupu.com/21808310.html</td>\n",
       "      <td>(湖人, 独行侠)</td>\n",
       "      <td>15</td>\n",
       "    </tr>\n",
       "    <tr>\n",
       "      <th>12</th>\n",
       "      <td>https://bbs.hupu.com/21806758.html</td>\n",
       "      <td>(灰熊, 开拓者)</td>\n",
       "      <td>16</td>\n",
       "    </tr>\n",
       "    <tr>\n",
       "      <th>13</th>\n",
       "      <td>https://bbs.hupu.com/21799137.html</td>\n",
       "      <td>(步行者, 勇士)</td>\n",
       "      <td>10</td>\n",
       "    </tr>\n",
       "    <tr>\n",
       "      <th>14</th>\n",
       "      <td>https://bbs.hupu.com/21805964.html</td>\n",
       "      <td>(篮网, 魔术)</td>\n",
       "      <td>5</td>\n",
       "    </tr>\n",
       "    <tr>\n",
       "      <th>15</th>\n",
       "      <td>https://bbs.hupu.com/21806695.html</td>\n",
       "      <td>(森林狼, 老鹰)</td>\n",
       "      <td>12</td>\n",
       "    </tr>\n",
       "    <tr>\n",
       "      <th>16</th>\n",
       "      <td>https://bbs.hupu.com/21797663.html</td>\n",
       "      <td>(热火, 骑士)</td>\n",
       "      <td>22</td>\n",
       "    </tr>\n",
       "    <tr>\n",
       "      <th>17</th>\n",
       "      <td>https://bbs.hupu.com/21790405.html</td>\n",
       "      <td>(凯尔特人, 太阳)</td>\n",
       "      <td>12</td>\n",
       "    </tr>\n",
       "    <tr>\n",
       "      <th>18</th>\n",
       "      <td>https://bbs.hupu.com/21807886.html</td>\n",
       "      <td>(快船, 太阳)</td>\n",
       "      <td>3</td>\n",
       "    </tr>\n",
       "    <tr>\n",
       "      <th>19</th>\n",
       "      <td>https://bbs.hupu.com/21764801.html</td>\n",
       "      <td>(勇士, 老鹰)</td>\n",
       "      <td>13</td>\n",
       "    </tr>\n",
       "    <tr>\n",
       "      <th>20</th>\n",
       "      <td>https://bbs.hupu.com/21797268.html</td>\n",
       "      <td>(猛龙, 掘金)</td>\n",
       "      <td>8</td>\n",
       "    </tr>\n",
       "    <tr>\n",
       "      <th>21</th>\n",
       "      <td>https://bbs.hupu.com/21797416.html</td>\n",
       "      <td>(火箭, 公牛)</td>\n",
       "      <td>20</td>\n",
       "    </tr>\n",
       "    <tr>\n",
       "      <th>22</th>\n",
       "      <td>https://bbs.hupu.com/21799242.html</td>\n",
       "      <td>(快船, 雄鹿)</td>\n",
       "      <td>6</td>\n",
       "    </tr>\n",
       "  </tbody>\n",
       "</table>\n",
       "</div>"
      ],
      "text/plain": [
       "                               address       teams page\n",
       "0   https://bbs.hupu.com/21816857.html    (雄鹿, 勇士)   18\n",
       "1   https://bbs.hupu.com/21815678.html    (马刺, 雷霆)   55\n",
       "2   https://bbs.hupu.com/21816663.html   (步行者, 国王)    5\n",
       "3   https://bbs.hupu.com/21815273.html    (热火, 公牛)    2\n",
       "4   https://bbs.hupu.com/21815004.html    (活塞, 奇才)    6\n",
       "5   https://bbs.hupu.com/21807714.html  (凯尔特人, 爵士)   20\n",
       "6   https://bbs.hupu.com/21730022.html    (马刺, 勇士)   32\n",
       "7   https://bbs.hupu.com/21789432.html   (灰熊, 森林狼)   28\n",
       "8   https://bbs.hupu.com/21745462.html    (黄蜂, 篮网)   25\n",
       "9   https://bbs.hupu.com/21805997.html    (骑士, 黄蜂)   24\n",
       "10  https://bbs.hupu.com/21806091.html  (76人, 尼克斯)    9\n",
       "11  https://bbs.hupu.com/21808310.html   (湖人, 独行侠)   15\n",
       "12  https://bbs.hupu.com/21806758.html   (灰熊, 开拓者)   16\n",
       "13  https://bbs.hupu.com/21799137.html   (步行者, 勇士)   10\n",
       "14  https://bbs.hupu.com/21805964.html    (篮网, 魔术)    5\n",
       "15  https://bbs.hupu.com/21806695.html   (森林狼, 老鹰)   12\n",
       "16  https://bbs.hupu.com/21797663.html    (热火, 骑士)   22\n",
       "17  https://bbs.hupu.com/21790405.html  (凯尔特人, 太阳)   12\n",
       "18  https://bbs.hupu.com/21807886.html    (快船, 太阳)    3\n",
       "19  https://bbs.hupu.com/21764801.html    (勇士, 老鹰)   13\n",
       "20  https://bbs.hupu.com/21797268.html    (猛龙, 掘金)    8\n",
       "21  https://bbs.hupu.com/21797416.html    (火箭, 公牛)   20\n",
       "22  https://bbs.hupu.com/21799242.html    (快船, 雄鹿)    6"
      ]
     },
     "execution_count": 11,
     "metadata": {},
     "output_type": "execute_result"
    }
   ],
   "source": [
    "new_post_infos"
   ]
  },
  {
   "cell_type": "code",
   "execution_count": null,
   "metadata": {
    "collapsed": false
   },
   "outputs": [
    {
     "name": "stdout",
     "output_type": "stream",
     "text": [
      "in https://bbs.hupu.com/21808310.html page 1\n"
     ]
    }
   ],
   "source": [
    "with open('post_infos.csv','w') as f:\n",
    "    post_infos.to_csv(f)\n",
    "    \n",
    "for url in update_post_url:\n",
    "    post_url = url\n",
    "    page_n = int(new_post_infos[new_post_infos['address']==url]['page'])\n",
    "    win_loss = new_post_infos[new_post_infos['address']==url]['teams']\n",
    "    win = str(win_loss).replace('(','').replace(')','').split(',')[0]\n",
    "    loss = str(win_loss).replace('(','').replace(')','').split(',')[1]\n",
    "    counter = counter_fans(post_url,page_n)\n",
    "    results.append((win,loss,counter))\n",
    "print('complete {}/10'.format(i))"
   ]
  },
  {
   "cell_type": "code",
   "execution_count": null,
   "metadata": {
    "collapsed": false,
    "deletable": true,
    "editable": true
   },
   "outputs": [],
   "source": [
    "result_df = pd.DataFrame(results)\n",
    "result_df.columns = ['win','loss','count']"
   ]
  },
  {
   "cell_type": "code",
   "execution_count": null,
   "metadata": {
    "collapsed": false
   },
   "outputs": [],
   "source": [
    "print(len(result_df))\n",
    "result_df.head()"
   ]
  },
  {
   "cell_type": "code",
   "execution_count": null,
   "metadata": {
    "collapsed": false
   },
   "outputs": [],
   "source": [
    "count_table = pd.DataFrame()\n",
    "for i in range(len(result_df)):\n",
    "    s1 = pd.Series(result_df['count'][i])\n",
    "    count_table = pd.concat([count_table,s1],axis=1)"
   ]
  },
  {
   "cell_type": "code",
   "execution_count": null,
   "metadata": {
    "collapsed": false
   },
   "outputs": [],
   "source": [
    "count_table = count_table.T\n",
    "count_table.reset_index(inplace=True)"
   ]
  },
  {
   "cell_type": "code",
   "execution_count": null,
   "metadata": {
    "collapsed": false
   },
   "outputs": [],
   "source": [
    "final_table = pd.concat([result_df[['win','loss']],count_table],axis=1)\n",
    "final_table = final_table.drop('index',axis=1)\n",
    "final_table = final_table.fillna(0)"
   ]
  },
  {
   "cell_type": "code",
   "execution_count": null,
   "metadata": {
    "collapsed": false
   },
   "outputs": [],
   "source": [
    "old_table = pd.read_csv('result_table.csv',usecols=[i for i in range(1,final_table.shape[1]+1)])\n",
    "final_table = old_table.append(final_table).drop_duplicates()\n",
    "with open('result_table.csv','w') as f:\n",
    "    final_table.to_csv(f)"
   ]
  },
  {
   "cell_type": "code",
   "execution_count": null,
   "metadata": {
    "collapsed": false,
    "deletable": true,
    "editable": true
   },
   "outputs": [],
   "source": [
    "np.sum(final_table.iloc[:,3:],axis=0).plot(kind='bar',figsize=(8,5),fontsize=12)"
   ]
  }
 ],
 "metadata": {
  "kernelspec": {
   "display_name": "Python [conda env:aind]",
   "language": "python",
   "name": "conda-env-aind-py"
  },
  "language_info": {
   "codemirror_mode": {
    "name": "ipython",
    "version": 3
   },
   "file_extension": ".py",
   "mimetype": "text/x-python",
   "name": "python",
   "nbconvert_exporter": "python",
   "pygments_lexer": "ipython3",
   "version": "3.6.0"
  }
 },
 "nbformat": 4,
 "nbformat_minor": 2
}
